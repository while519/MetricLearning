{
 "cells": [
  {
   "cell_type": "code",
   "execution_count": 2,
   "metadata": {
    "collapsed": true
   },
   "outputs": [],
   "source": [
    "import numpy as np\n",
    "import theano\n",
    "import theano.tensor as T\n",
    "from theano.sandbox.rng_mrg import MRG_RandomStreams as RandomStreams"
   ]
  },
  {
   "cell_type": "code",
   "execution_count": null,
   "metadata": {
    "collapsed": true
   },
   "outputs": [],
   "source": [
    "class RBM(object):\n",
    "    \"\"\"Restricted Boltzmann Machine (RBM)\"\"\"\n",
    "    def __init__(\n",
    "        self,\n",
    "        input=None,\n",
    "        n_visible=784,\n",
    "        n_hidden=500,\n",
    "        W=None,\n",
    "        hbias=None,\n",
    "        vbias=None,\n",
    "        numpy_rng=None,\n",
    "        theano_rng=None\n",
    "    ):\n",
    "        \"\"\"\n",
    "        RBM constructor\n",
    "        \"\"\"\n",
    "        self.n_visible = n_visible\n",
    "        self.n_hidden = n_hidden\n",
    "        \n",
    "        if numpy_rng is None:\n",
    "            numpy_rng = np.random.RandomState(213)\n",
    "        \n",
    "        if theano_rng is None:\n",
    "            theano_rng = RandomStreams(numpy_rng.randint(2 ** 30))\n",
    "        \n",
    "        if W is None:\n",
    "            initial_W = np.asarray(\n",
    "                numpy_rng.uniform(\n",
    "                    low=-4 * np.sqrt(6. / (n_hidden + n_visible)),\n",
    "                    high=-4 * np.sqrt(6. / (n_hidden + n_visible))\n",
    "                ),\n",
    "                dtype=theano.config.floatX\n",
    "            )\n",
    "            W = theano.shared(value=initial_W, name='W', borrow=True)\n",
    "        \n",
    "        if hbias is None:\n",
    "            hbias = theano.shared(\n",
    "                value=np.zeros(\n",
    "                    n_hidden,\n",
    "                    dtype=theano.config.floatX\n",
    "                ),\n",
    "                name='hbias',\n",
    "                borrow=True\n",
    "            )\n",
    "        \n",
    "        if vbias is None:\n",
    "            vbias = theano.shared(\n",
    "                value=np.zeros(\n",
    "                    n_visible,\n",
    "                    dtype=theano.config.floatX\n",
    "                ),\n",
    "                name='vbias',\n",
    "                borrow=True\n",
    "            )\n",
    "        \n",
    "        self.input = input\n",
    "        if not input:\n",
    "            self.input = T.matrix('input')\n",
    "        \n",
    "        self.W = W\n",
    "        self.hbias = hbias\n",
    "        self.vbias = vbias\n",
    "        self.theano_rng = theano_rng\n",
    "        \n",
    "        self.params = [self.W, self.hbias, self.vbias]\n",
    "    \n",
    "    def propup(self, vis):\n",
    "        pre_sigmoid_activation = T.dot(vis, self.W) + self.hbias\n",
    "        return [pre_sigmoid_activation, T.nnet.sigmoid(pre_sigmoid_activation)]\n",
    "    \n",
    "    def sample_h_given_v(self, v0_sample):\n",
    "        pre_sigmoid_h1, h1_mean = self.propup(v0_sample)\n",
    "        h1_sample = self.theano_rng.binomial(size=h1_mean.shape,\n",
    "                                            n=1, p=h1_mean,\n",
    "                                             dtype=theano.config.floatX\n",
    "                                            )\n",
    "        return [pre_sigmoid_h1, h1_mean, h1_sample]\n",
    "    \n",
    "    def propdown(self, hid):\n",
    "        pre_sigmoid_activation = T.dot(hid, self.W.T) + self.vbias\n",
    "        return [pre_sigmoid_activation, T.nnet.sigmoid(pre_sigmoid_activation)]\n",
    "    \n",
    "    def sample_v_given_h(self, h0_sample):\n",
    "        pre_sigmoid_v1, v1_mean = self.propdown(h0_sample)\n",
    "        v1_sample = self.theano_rng.binomial(size=v1_mean.shape,\n",
    "                                             n=1, p=v1_mean,\n",
    "                                             dtype=theano.config.floatX\n",
    "                                            )\n",
    "        return [pre_sigmoid_v1, v1_mean, v1_sample]\n",
    "    \n",
    "    def gibbs_hvh(self, h0_sample):\n",
    "        pre_sigmoid_v1, v1_mean, v1_sample = self.sample_v_given_h(h0_sample)\n",
    "        pre_sigmoid_h1, h1_mean, h1_sample = self.sample_h_given_v(v1_sample)\n",
    "        return [pre_sigmoid_v1, v1_mean, v1_sample,\n",
    "               pre_sigmoid_h1, h1_mean, h1_sample]\n",
    "    \n",
    "    def gibbs_vhv(self, v0_sample):\n",
    "        pre_sigmoid_h1, h1_mean, h1_sample = self.sample_h_given_v(v0_sample)\n",
    "        pre_sigmoid_v1, v1_mean, v1_sample = self.sample_v_given_h(h0_sample)\n",
    "        return [pre_sigmoid_h1, h1_mean, h1_sample,\n",
    "               pre_sigmoid_v1, v1_mean, v1_sample]\n",
    "    \n",
    "    def free_energy(self, v_sample):\n",
    "        wx_b = T.dot(v_sample, self.W) + self.hbias\n",
    "        vbias_term = T.dot(v_sample, self.vbias)\n",
    "        hidden_term = T.sum(T.log(1 + T.exp(wx_b)), axis=1)\n",
    "        return -hidden_term - vbias_term\n",
    "    \n",
    "    def get_cost_updates(self, lr=0.1, persistent=None, k=1):\n",
    "        pre_sigmoid_ph, ph_mean, ph_sample = self.sample_h_given_v(self.input)\n",
    "        \n",
    "        if persistent is None:\n",
    "            chain_start = ph_sample\n",
    "        else:\n",
    "            chain_start = persistent\n",
    "            \n",
    "        (\n",
    "            [\n",
    "                pre_sigmoid_nvs,\n",
    "                nv_means,\n",
    "                nv_samples,\n",
    "                pre_sigmoid_nhs,\n",
    "                nh_means,\n",
    "                nh_samples\n",
    "            ],\n",
    "            updates\n",
    "        ) = theano.scan(\n",
    "                self.gibbs_hvh,\n",
    "                outputs_info=[None, None, None, None, None, chain_start],\n",
    "                n_steps=k\n",
    "        )\n",
    "        \n",
    "        chain_end = nv_samples[-1]\n",
    "        \n",
    "        cost = T.mean(self.free_energy(self.input)) - T.mean(self.free_energy(chain_end))\n",
    "        \n",
    "        gparams = T.grad(cost, self.params, consider_constant=[chain_end])\n",
    "        \n",
    "        for gparam, param in zip(gparams, self.params):\n",
    "            updates[param] = param - gparam * T.cast(\n",
    "                lr,\n",
    "                dtype=theano.config.floatX\n",
    "            )\n",
    "        \n",
    "        if persistent:\n",
    "            updates[persistent] = nh_samples[-1]\n",
    "            monitor_cost = self.get_reconstruction_cost(updates,\n",
    "                                                       pre_sigmoid_nvs[-1])\n",
    "            \n",
    "        return monitor_cost, updates"
   ]
  },
  {
   "cell_type": "code",
   "execution_count": 6,
   "metadata": {
    "collapsed": false
   },
   "outputs": [],
   "source": [
    "RandomStreams?"
   ]
  },
  {
   "cell_type": "code",
   "execution_count": 12,
   "metadata": {
    "collapsed": false
   },
   "outputs": [
    {
     "data": {
      "text/plain": [
       "array([-1.93101144, -1.72587842, -1.52074541, -1.31561239])"
      ]
     },
     "execution_count": 12,
     "metadata": {},
     "output_type": "execute_result"
    }
   ],
   "source": [
    "a = np.arange(12).reshape(3,4)\n",
    "b = np.random.randn(3)\n",
    "b.dot(a)"
   ]
  },
  {
   "cell_type": "code",
   "execution_count": 13,
   "metadata": {
    "collapsed": false
   },
   "outputs": [
    {
     "ename": "NameError",
     "evalue": "name 'update' is not defined",
     "traceback": [
      "\u001b[0;31m---------------------------------------------------------------------------\u001b[0m",
      "\u001b[0;31mNameError\u001b[0m                                 Traceback (most recent call last)",
      "\u001b[0;32m<ipython-input-13-bbc125a18d89>\u001b[0m in \u001b[0;36m<module>\u001b[0;34m()\u001b[0m\n\u001b[0;32m----> 1\u001b[0;31m \u001b[0mupdate\u001b[0m\u001b[0;34m[\u001b[0m\u001b[0;36m3\u001b[0m\u001b[0;34m]\u001b[0m \u001b[0;34m=\u001b[0m \u001b[0;36m2\u001b[0m\u001b[0;34m\u001b[0m\u001b[0m\n\u001b[0m",
      "\u001b[0;31mNameError\u001b[0m: name 'update' is not defined"
     ],
     "output_type": "error"
    }
   ],
   "source": [
    "update[3] = 2"
   ]
  },
  {
   "cell_type": "code",
   "execution_count": null,
   "metadata": {
    "collapsed": true
   },
   "outputs": [],
   "source": [
    ""
   ]
  }
 ],
 "metadata": {
  "kernelspec": {
   "display_name": "Python 3",
   "language": "python",
   "name": "python3"
  },
  "language_info": {
   "codemirror_mode": {
    "name": "ipython",
    "version": 3.0
   },
   "file_extension": ".py",
   "mimetype": "text/x-python",
   "name": "python",
   "nbconvert_exporter": "python",
   "pygments_lexer": "ipython3",
   "version": "3.6.0"
  }
 },
 "nbformat": 4,
 "nbformat_minor": 0
}