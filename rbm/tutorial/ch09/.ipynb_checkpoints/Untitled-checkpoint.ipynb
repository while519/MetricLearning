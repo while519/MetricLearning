{
 "cells": [
  {
   "cell_type": "code",
   "execution_count": 2,
   "metadata": {
    "collapsed": true
   },
   "outputs": [],
   "source": [
    "import numpy as np\n",
    "import theano\n",
    "import theano.tensor as T\n",
    "from theano.sandbox.rng_mrg import MRG_RandomStreams as RandomStreams"
   ]
  },
  {
   "cell_type": "code",
   "execution_count": null,
   "metadata": {
    "collapsed": true
   },
   "outputs": [],
   "source": [
    "class RBM(object):\n",
    "    \"\"\"Restricted Boltzmann Machine (RBM)\"\"\"\n",
    "    def __init__(\n",
    "        self,\n",
    "        input=None,\n",
    "        n_visible=784,\n",
    "        n_hidden=500,\n",
    "        W=None,\n",
    "        hbias=None,\n",
    "        vbias=None,\n",
    "        numpy_rng=None,\n",
    "        theano_rng=None\n",
    "    ):\n",
    "        \"\"\"\n",
    "        RBM constructor\n",
    "        \"\"\"\n",
    "        self.n_visible = n_visible\n",
    "        self.n_hidden = n_hidden\n",
    "        \n",
    "        if numpy_rng is None:\n",
    "            numpy_rng = np.random.RandomState(213)\n",
    "        \n",
    "        if theano_rng is None:\n",
    "            theano_rng = RandomStreams(numpy_rng.randint(2 ** 30))\n",
    "        \n",
    "        if W is None:\n",
    "            initial_W = np.asarray(\n",
    "                numpy_rng.uniform(\n",
    "                    low=-4 * np.sqrt(6. / (n_hidden + n_visible)),\n",
    "                    high=-4 * np.sqrt(6. / (n_hidden + n_visible))\n",
    "                ),\n",
    "                dtype=theano.config.floatX\n",
    "            )\n",
    "            W = theano.shared(value=initial_W, name='W', borrow=True)\n",
    "        \n",
    "        if hbias is None:\n",
    "            hbias = theano.shared(\n",
    "                value=np.zeros(\n",
    "                    n_hidden,\n",
    "                    dtype=theano.config.floatX\n",
    "                ),\n",
    "                name='hbias',\n",
    "                borrow=True\n",
    "            )\n",
    "        \n",
    "        if vbias is None:\n",
    "            vbias = theano.shared(\n",
    "                value=np.zeros(\n",
    "                    n_visible,\n",
    "                    dtype=theano.config.floatX\n",
    "                ),\n",
    "                name='vbias',\n",
    "                borrow=True\n",
    "            )\n",
    "        \n",
    "        self.input = input\n",
    "        if not input:\n",
    "            self.input = T.matrix('input')\n",
    "        \n",
    "        self.W = W\n",
    "        self.hbias = hbias\n",
    "        self.vbias = vbias\n",
    "        self.theano_rng = theano_rng\n",
    "        \n",
    "        self.params = [self.W, self.hbias, self.vbias]\n",
    "    \n",
    "    def propup(self, vis):\n",
    "        pre_sigmoid_activation = T.dot(vis, self.W) + self.hbias\n",
    "        return [pre_sigmoid_activation, T.nnet.sigmoid(pre_sigmoid_activation)]\n",
    "    \n",
    "    def sample_h_given_v(self, v0_sample):\n",
    "        pre_sigmoid_h1, h1_mean = self.propup(v0_sample)\n",
    "        h1_sample = self.theano_rng.binomial(size=h1_mean.shape,\n",
    "                                            n=1, p=h1_mean,\n",
    "                                             dtype=theano.config.floatX\n",
    "                                            )\n",
    "        return [pre_sigmoid_h1, h1_mean, h1_sample]\n",
    "    \n",
    "    def propdown(self, hid):\n",
    "        pre_sigmoid_activation = T.dot(hid, self.W.T) + self.vbias\n",
    "        return [pre_sigmoid_activation, T.nnet.sigmoid(pre_sigmoid_activation)]\n",
    "    \n",
    "    def sample_v_given_h(self, h0_sample):\n",
    "        pre_sigmoid_v1, v1_mean = self.propdown(h0_sample)\n",
    "        v1_sample = self.theano_rng.binomial(size=v1_mean.shape,\n",
    "                                             n=1, p=v1_mean,\n",
    "                                             dtype=theano.config.floatX\n",
    "                                            )\n",
    "        return [pre_sigmoid_v1, v1_mean, v1_sample]\n",
    "    \n",
    "    def gibbs_hvh(self, h0_sample):\n",
    "        pre_sigmoid_v1, v1_mean, v1_sample = self.sample_v_given_h(h0_sample)\n",
    "        pre_sigmoid_h1, h1_mean, h1_sample = self.sample_h_given_v(v1_sample)\n",
    "        return [pre_sigmoid_v1, v1_mean, v1_sample,\n",
    "               pre_sigmoid_h1, h1_mean, h1_sample]\n",
    "    \n",
    "    def gibbs_vhv(self, v0_sample):\n",
    "        pre_sigmoid_h1, h1_mean, h1_sample = self.sample_h_given_v(v0_sample)\n",
    "        pre_sigmoid_v1, v1_mean, v1_sample = self.sample_v_given_h(h0_sample)\n",
    "        return [pre_sigmoid_h1, h1_mean, h1_sample,\n",
    "               pre_sigmoid_v1, v1_mean, v1_sample]"
   ]
  },
  {
   "cell_type": "code",
   "execution_count": 6,
   "metadata": {
    "collapsed": false
   },
   "outputs": [],
   "source": [
    "RandomStreams?"
   ]
  },
  {
   "cell_type": "code",
   "execution_count": 12,
   "metadata": {
    "collapsed": false
   },
   "outputs": [
    {
     "data": {
      "text/plain": [
       "array([-1.93101144, -1.72587842, -1.52074541, -1.31561239])"
      ]
     },
     "execution_count": 12,
     "metadata": {},
     "output_type": "execute_result"
    }
   ],
   "source": [
    "a = np.arange(12).reshape(3,4)\n",
    "b = np.random.randn(3)\n",
    "b.dot(a)"
   ]
  },
  {
   "cell_type": "code",
   "execution_count": null,
   "metadata": {
    "collapsed": true
   },
   "outputs": [],
   "source": []
  }
 ],
 "metadata": {
  "kernelspec": {
   "display_name": "Python 3",
   "language": "python",
   "name": "python3"
  },
  "language_info": {
   "codemirror_mode": {
    "name": "ipython",
    "version": 3
   },
   "file_extension": ".py",
   "mimetype": "text/x-python",
   "name": "python",
   "nbconvert_exporter": "python",
   "pygments_lexer": "ipython3",
   "version": "3.6.0"
  }
 },
 "nbformat": 4,
 "nbformat_minor": 2
}
